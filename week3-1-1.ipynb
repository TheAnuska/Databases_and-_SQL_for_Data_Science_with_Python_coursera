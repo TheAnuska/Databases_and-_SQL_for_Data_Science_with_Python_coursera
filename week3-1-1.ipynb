{
    "cells": [
        {
            "cell_type": "code",
            "execution_count": 20,
            "metadata": {},
            "outputs": [
                {
                    "name": "stdout",
                    "output_type": "stream",
                    "text": "Requirement already satisfied: sqlalchemy in /opt/conda/envs/Python-3.8-main/lib/python3.8/site-packages (1.3.9)\nRequirement already satisfied: ibm_db_sa in /opt/conda/envs/Python-3.8-main/lib/python3.8/site-packages (0.3.7)\nRequirement already satisfied: ibm-db>=2.0.0 in /opt/conda/envs/Python-3.8-main/lib/python3.8/site-packages (from ibm_db_sa) (3.0.4)\nRequirement already satisfied: sqlalchemy>=0.7.3 in /opt/conda/envs/Python-3.8-main/lib/python3.8/site-packages (from ibm_db_sa) (1.3.9)\nRequirement already satisfied: sqlalchemy==1.3.9 in /opt/conda/envs/Python-3.8-main/lib/python3.8/site-packages (1.3.9)\nRequirement already satisfied: ibm_db_sa in /opt/conda/envs/Python-3.8-main/lib/python3.8/site-packages (0.3.7)\nRequirement already satisfied: ibm-db>=2.0.0 in /opt/conda/envs/Python-3.8-main/lib/python3.8/site-packages (from ibm_db_sa) (3.0.4)\nRequirement already satisfied: sqlalchemy>=0.7.3 in /opt/conda/envs/Python-3.8-main/lib/python3.8/site-packages (from ibm_db_sa) (1.3.9)\n"
                }
            ],
            "source": "!pip install sqlalchemy\n!pip install ibm_db_sa\n!pip install sqlalchemy==1.3.9\n!pip install ibm_db_sa"
        },
        {
            "cell_type": "code",
            "execution_count": 21,
            "metadata": {},
            "outputs": [
                {
                    "name": "stdout",
                    "output_type": "stream",
                    "text": "Requirement already satisfied: ipython-sql in /opt/conda/envs/Python-3.8-main/lib/python3.8/site-packages (0.4.0)\nRequirement already satisfied: ipython-genutils>=0.1.0 in /opt/conda/envs/Python-3.8-main/lib/python3.8/site-packages (from ipython-sql) (0.2.0)\nRequirement already satisfied: sqlparse in /opt/conda/envs/Python-3.8-main/lib/python3.8/site-packages (from ipython-sql) (0.4.2)\nRequirement already satisfied: prettytable<1 in /opt/conda/envs/Python-3.8-main/lib/python3.8/site-packages (from ipython-sql) (0.7.2)\nRequirement already satisfied: sqlalchemy>=0.6.7 in /opt/conda/envs/Python-3.8-main/lib/python3.8/site-packages (from ipython-sql) (1.3.9)\nRequirement already satisfied: six in /opt/conda/envs/Python-3.8-main/lib/python3.8/site-packages (from ipython-sql) (1.15.0)\nRequirement already satisfied: ipython>=1.0 in /opt/conda/envs/Python-3.8-main/lib/python3.8/site-packages (from ipython-sql) (7.22.0)\nRequirement already satisfied: backcall in /opt/conda/envs/Python-3.8-main/lib/python3.8/site-packages (from ipython>=1.0->ipython-sql) (0.2.0)\nRequirement already satisfied: pickleshare in /opt/conda/envs/Python-3.8-main/lib/python3.8/site-packages (from ipython>=1.0->ipython-sql) (0.7.5)\nRequirement already satisfied: setuptools>=18.5 in /opt/conda/envs/Python-3.8-main/lib/python3.8/site-packages (from ipython>=1.0->ipython-sql) (52.0.0.post20210125)\nRequirement already satisfied: prompt-toolkit!=3.0.0,!=3.0.1,<3.1.0,>=2.0.0 in /opt/conda/envs/Python-3.8-main/lib/python3.8/site-packages (from ipython>=1.0->ipython-sql) (3.0.17)\nRequirement already satisfied: pygments in /opt/conda/envs/Python-3.8-main/lib/python3.8/site-packages (from ipython>=1.0->ipython-sql) (2.9.0)\nRequirement already satisfied: pexpect>4.3 in /opt/conda/envs/Python-3.8-main/lib/python3.8/site-packages (from ipython>=1.0->ipython-sql) (4.8.0)\nRequirement already satisfied: jedi>=0.16 in /opt/conda/envs/Python-3.8-main/lib/python3.8/site-packages (from ipython>=1.0->ipython-sql) (0.17.2)\nRequirement already satisfied: decorator in /opt/conda/envs/Python-3.8-main/lib/python3.8/site-packages (from ipython>=1.0->ipython-sql) (5.0.9)\nRequirement already satisfied: traitlets>=4.2 in /opt/conda/envs/Python-3.8-main/lib/python3.8/site-packages (from ipython>=1.0->ipython-sql) (5.0.5)\nRequirement already satisfied: parso<0.8.0,>=0.7.0 in /opt/conda/envs/Python-3.8-main/lib/python3.8/site-packages (from jedi>=0.16->ipython>=1.0->ipython-sql) (0.7.0)\nRequirement already satisfied: ptyprocess>=0.5 in /opt/conda/envs/Python-3.8-main/lib/python3.8/site-packages (from pexpect>4.3->ipython>=1.0->ipython-sql) (0.7.0)\nRequirement already satisfied: wcwidth in /opt/conda/envs/Python-3.8-main/lib/python3.8/site-packages (from prompt-toolkit!=3.0.0,!=3.0.1,<3.1.0,>=2.0.0->ipython>=1.0->ipython-sql) (0.2.5)\n"
                }
            ],
            "source": "\n\n!pip install ipython-sql\n\n"
        },
        {
            "cell_type": "code",
            "execution_count": 22,
            "metadata": {},
            "outputs": [
                {
                    "name": "stdout",
                    "output_type": "stream",
                    "text": "The sql extension is already loaded. To reload it, use:\n  %reload_ext sql\n"
                }
            ],
            "source": "\n\n%load_ext sql\n\n"
        },
        {
            "cell_type": "code",
            "execution_count": 23,
            "metadata": {},
            "outputs": [],
            "source": "%sql ibm_db_sa://xqf60309:TpfYXisB8ScNcc8h@ba99a9e6-d59e-4883-8fc0-d6a8c9f7a08f.c1ogj3sd0tgtu0lqde00.databases.appdomain.cloud:31321/bludb?security=SSL"
        },
        {
            "cell_type": "code",
            "execution_count": 24,
            "metadata": {},
            "outputs": [
                {
                    "name": "stdout",
                    "output_type": "stream",
                    "text": " * ibm_db_sa://xqf60309:***@ba99a9e6-d59e-4883-8fc0-d6a8c9f7a08f.c1ogj3sd0tgtu0lqde00.databases.appdomain.cloud:31321/bludb\nDone.\n"
                },
                {
                    "data": {
                        "text/html": "<table>\n    <tr>\n        <th>1</th>\n    </tr>\n    <tr>\n        <td>533</td>\n    </tr>\n</table>",
                        "text/plain": "[(533,)]"
                    },
                    "execution_count": 24,
                    "metadata": {},
                    "output_type": "execute_result"
                }
            ],
            "source": "# Problem 1: Find the total number of crimes recorded in the CRIME table.\n%sql SELECT count(*) FROM CHICAGO_CRIME_DATA"
        },
        {
            "cell_type": "code",
            "execution_count": 25,
            "metadata": {},
            "outputs": [
                {
                    "name": "stdout",
                    "output_type": "stream",
                    "text": " * ibm_db_sa://xqf60309:***@ba99a9e6-d59e-4883-8fc0-d6a8c9f7a08f.c1ogj3sd0tgtu0lqde00.databases.appdomain.cloud:31321/bludb\nDone.\n"
                },
                {
                    "data": {
                        "text/html": "<table>\n    <tr>\n        <th>community_area_name</th>\n    </tr>\n    <tr>\n        <td>West Garfield Park</td>\n    </tr>\n    <tr>\n        <td>South Lawndale</td>\n    </tr>\n    <tr>\n        <td>Fuller Park</td>\n    </tr>\n    <tr>\n        <td>Riverdale</td>\n    </tr>\n</table>",
                        "text/plain": "[('West Garfield Park',),\n ('South Lawndale',),\n ('Fuller Park',),\n ('Riverdale',)]"
                    },
                    "execution_count": 25,
                    "metadata": {},
                    "output_type": "execute_result"
                }
            ],
            "source": "# Problem 2: List community areas with per capita income less than 11000.\n%sql SELECT COMMUNITY_AREA_NAME FROM CENSUS_DATA WHERE PER_CAPITA_INCOME<11000"
        },
        {
            "cell_type": "code",
            "execution_count": 26,
            "metadata": {},
            "outputs": [
                {
                    "name": "stdout",
                    "output_type": "stream",
                    "text": " * ibm_db_sa://xqf60309:***@ba99a9e6-d59e-4883-8fc0-d6a8c9f7a08f.c1ogj3sd0tgtu0lqde00.databases.appdomain.cloud:31321/bludb\nDone.\n"
                },
                {
                    "data": {
                        "text/html": "<table>\n    <tr>\n        <th>case_number</th>\n        <th>description</th>\n    </tr>\n    <tr>\n        <td>HN567387</td>\n        <td>AGG SEX ASSLT OF CHILD FAM MBR</td>\n    </tr>\n    <tr>\n        <td>HR391350</td>\n        <td>SEX ASSLT OF CHILD BY FAM MBR</td>\n    </tr>\n    <tr>\n        <td>HN144152</td>\n        <td>CHILD ABDUCTION/STRANGER</td>\n    </tr>\n</table>",
                        "text/plain": "[('HN567387', 'AGG SEX ASSLT OF CHILD FAM MBR'),\n ('HR391350', 'SEX ASSLT OF CHILD BY FAM MBR'),\n ('HN144152', 'CHILD ABDUCTION/STRANGER')]"
                    },
                    "execution_count": 26,
                    "metadata": {},
                    "output_type": "execute_result"
                }
            ],
            "source": "# Problem 3: List all case numbers for crimes involving minors?\n%sql SELECT CASE_NUMBER,DESCRIPTION FROM CHICAGO_CRIME_DATA WHERE DESCRIPTION like '%CHILD%'"
        },
        {
            "cell_type": "code",
            "execution_count": 27,
            "metadata": {},
            "outputs": [
                {
                    "name": "stdout",
                    "output_type": "stream",
                    "text": " * ibm_db_sa://xqf60309:***@ba99a9e6-d59e-4883-8fc0-d6a8c9f7a08f.c1ogj3sd0tgtu0lqde00.databases.appdomain.cloud:31321/bludb\nDone.\n"
                },
                {
                    "data": {
                        "text/html": "<table>\n    <tr>\n        <th>id</th>\n        <th>case_number</th>\n        <th>DATE</th>\n        <th>block</th>\n        <th>iucr</th>\n        <th>primary_type</th>\n        <th>description</th>\n        <th>location_description</th>\n        <th>arrest</th>\n        <th>domestic</th>\n        <th>beat</th>\n        <th>district</th>\n        <th>ward</th>\n        <th>community_area_number</th>\n        <th>fbicode</th>\n        <th>x_coordinate</th>\n        <th>y_coordinate</th>\n        <th>YEAR</th>\n        <th>latitude</th>\n        <th>longitude</th>\n        <th>location</th>\n    </tr>\n    <tr>\n        <td>5276766</td>\n        <td>HN144152</td>\n        <td>2007-01-26</td>\n        <td>050XX W VAN BUREN ST</td>\n        <td>1792</td>\n        <td>KIDNAPPING</td>\n        <td>CHILD ABDUCTION/STRANGER</td>\n        <td>STREET</td>\n        <td>FALSE</td>\n        <td>FALSE</td>\n        <td>1533</td>\n        <td>15</td>\n        <td>29</td>\n        <td>25</td>\n        <td>20</td>\n        <td>1143050</td>\n        <td>1897546</td>\n        <td>2007</td>\n        <td>41.87490841</td>\n        <td>-87.75024931</td>\n        <td>(41.874908413, -87.750249307)</td>\n    </tr>\n</table>",
                        "text/plain": "[(5276766, 'HN144152', datetime.date(2007, 1, 26), '050XX W VAN BUREN ST', '1792', 'KIDNAPPING', 'CHILD ABDUCTION/STRANGER', 'STREET', 'FALSE', 'FALSE', 1533, 15, 29, 25, '20', 1143050, 1897546, 2007, Decimal('41.87490841'), Decimal('-87.75024931'), '(41.874908413, -87.750249307)')]"
                    },
                    "execution_count": 27,
                    "metadata": {},
                    "output_type": "execute_result"
                }
            ],
            "source": "# Problem 4: List all kidnapping crimes involving a child?(children are not considered minors for the purposes of crime analysis)\n%sql SELECT * FROM CHICAGO_CRIME_DATA WHERE PRIMARY_TYPE='KIDNAPPING'"
        },
        {
            "cell_type": "code",
            "execution_count": 28,
            "metadata": {},
            "outputs": [
                {
                    "name": "stdout",
                    "output_type": "stream",
                    "text": " * ibm_db_sa://xqf60309:***@ba99a9e6-d59e-4883-8fc0-d6a8c9f7a08f.c1ogj3sd0tgtu0lqde00.databases.appdomain.cloud:31321/bludb\nDone.\n"
                },
                {
                    "data": {
                        "text/html": "<table>\n    <tr>\n        <th>description</th>\n        <th>location_description</th>\n    </tr>\n    <tr>\n        <td>SIMPLE</td>\n        <td>SCHOOL, PUBLIC, GROUNDS</td>\n    </tr>\n    <tr>\n        <td>PRO EMP HANDS NO/MIN INJURY</td>\n        <td>SCHOOL, PUBLIC, BUILDING</td>\n    </tr>\n    <tr>\n        <td>SIMPLE</td>\n        <td>SCHOOL, PUBLIC, BUILDING</td>\n    </tr>\n    <tr>\n        <td>SIMPLE</td>\n        <td>SCHOOL, PUBLIC, BUILDING</td>\n    </tr>\n    <tr>\n        <td>SIMPLE</td>\n        <td>SCHOOL, PUBLIC, GROUNDS</td>\n    </tr>\n    <tr>\n        <td>TO VEHICLE</td>\n        <td>SCHOOL, PUBLIC, GROUNDS</td>\n    </tr>\n    <tr>\n        <td>POSS: HEROIN(WHITE)</td>\n        <td>SCHOOL, PUBLIC, GROUNDS</td>\n    </tr>\n    <tr>\n        <td>MANU/DEL:CANNABIS 10GM OR LESS</td>\n        <td>SCHOOL, PUBLIC, BUILDING</td>\n    </tr>\n    <tr>\n        <td>PRO EMP HANDS NO/MIN INJURY</td>\n        <td>SCHOOL, PUBLIC, GROUNDS</td>\n    </tr>\n    <tr>\n        <td>TO LAND</td>\n        <td>SCHOOL, PUBLIC, GROUNDS</td>\n    </tr>\n    <tr>\n        <td>BOMB THREAT</td>\n        <td>SCHOOL, PRIVATE, BUILDING</td>\n    </tr>\n    <tr>\n        <td>BOMB THREAT</td>\n        <td>SCHOOL, PUBLIC, BUILDING</td>\n    </tr>\n</table>",
                        "text/plain": "[('SIMPLE', 'SCHOOL, PUBLIC, GROUNDS'),\n ('PRO EMP HANDS NO/MIN INJURY', 'SCHOOL, PUBLIC, BUILDING'),\n ('SIMPLE', 'SCHOOL, PUBLIC, BUILDING'),\n ('SIMPLE', 'SCHOOL, PUBLIC, BUILDING'),\n ('SIMPLE', 'SCHOOL, PUBLIC, GROUNDS'),\n ('TO VEHICLE', 'SCHOOL, PUBLIC, GROUNDS'),\n ('POSS: HEROIN(WHITE)', 'SCHOOL, PUBLIC, GROUNDS'),\n ('MANU/DEL:CANNABIS 10GM OR LESS', 'SCHOOL, PUBLIC, BUILDING'),\n ('PRO EMP HANDS NO/MIN INJURY', 'SCHOOL, PUBLIC, GROUNDS'),\n ('TO LAND', 'SCHOOL, PUBLIC, GROUNDS'),\n ('BOMB THREAT', 'SCHOOL, PRIVATE, BUILDING'),\n ('BOMB THREAT', 'SCHOOL, PUBLIC, BUILDING')]"
                    },
                    "execution_count": 28,
                    "metadata": {},
                    "output_type": "execute_result"
                }
            ],
            "source": "# Problem 5: What kind of crimes were recorded at schools?\n%sql SELECT DESCRIPTION, LOCATION_DESCRIPTION FROM CHICAGO_CRIME_DATA WHERE LOCATION_DESCRIPTION like 'SCHOOL%'"
        },
        {
            "cell_type": "code",
            "execution_count": 31,
            "metadata": {},
            "outputs": [
                {
                    "name": "stdout",
                    "output_type": "stream",
                    "text": " * ibm_db_sa://xqf60309:***@ba99a9e6-d59e-4883-8fc0-d6a8c9f7a08f.c1ogj3sd0tgtu0lqde00.databases.appdomain.cloud:31321/bludb\nDone.\n"
                },
                {
                    "data": {
                        "text/html": "<table>\n    <tr>\n        <th>avg_safety_score</th>\n        <th>el_midd_high_school</th>\n    </tr>\n    <tr>\n        <td>49</td>\n        <td>ES</td>\n    </tr>\n    <tr>\n        <td>49</td>\n        <td>HS</td>\n    </tr>\n    <tr>\n        <td>48</td>\n        <td>MS</td>\n    </tr>\n</table>",
                        "text/plain": "[(49, 'ES'), (49, 'HS'), (48, 'MS')]"
                    },
                    "execution_count": 31,
                    "metadata": {},
                    "output_type": "execute_result"
                }
            ],
            "source": "# Problem 6: List the average safety score for all types of schools.\n# %sql SELECT EL_MIDD_HIGH_SCHOOL FROM CHICAGO_PUBLIC_SCHOOLS\n%sql SELECT AVG(SAFETY_SCORE) as avg_SAFETY_SCORE, EL_MIDD_HIGH_SCHOOL FROM CHICAGO_PUBLIC_SCHOOLS GROUP BY EL_MIDD_HIGH_SCHOOL"
        },
        {
            "cell_type": "code",
            "execution_count": 33,
            "metadata": {},
            "outputs": [
                {
                    "name": "stdout",
                    "output_type": "stream",
                    "text": " * ibm_db_sa://xqf60309:***@ba99a9e6-d59e-4883-8fc0-d6a8c9f7a08f.c1ogj3sd0tgtu0lqde00.databases.appdomain.cloud:31321/bludb\nDone.\n"
                },
                {
                    "data": {
                        "text/html": "<table>\n    <tr>\n        <th>community_area_name</th>\n        <th>percent_households_below_poverty</th>\n    </tr>\n    <tr>\n        <td>Riverdale</td>\n        <td>56.5</td>\n    </tr>\n    <tr>\n        <td>Fuller Park</td>\n        <td>51.2</td>\n    </tr>\n    <tr>\n        <td>Englewood</td>\n        <td>46.6</td>\n    </tr>\n    <tr>\n        <td>North Lawndale</td>\n        <td>43.1</td>\n    </tr>\n    <tr>\n        <td>East Garfield Park</td>\n        <td>42.4</td>\n    </tr>\n</table>",
                        "text/plain": "[('Riverdale', Decimal('56.5')),\n ('Fuller Park', Decimal('51.2')),\n ('Englewood', Decimal('46.6')),\n ('North Lawndale', Decimal('43.1')),\n ('East Garfield Park', Decimal('42.4'))]"
                    },
                    "execution_count": 33,
                    "metadata": {},
                    "output_type": "execute_result"
                }
            ],
            "source": "# Problem 7: List 5 community areas with highest % of households below poverty line. \n%sql SELECT COMMUNITY_AREA_NAME, PERCENT_HOUSEHOLDS_BELOW_POVERTY FROM CENSUS_DATA ORDER BY PERCENT_HOUSEHOLDS_BELOW_POVERTY DESC LIMIT 5"
        },
        {
            "cell_type": "code",
            "execution_count": 41,
            "metadata": {},
            "outputs": [
                {
                    "name": "stdout",
                    "output_type": "stream",
                    "text": " * ibm_db_sa://xqf60309:***@ba99a9e6-d59e-4883-8fc0-d6a8c9f7a08f.c1ogj3sd0tgtu0lqde00.databases.appdomain.cloud:31321/bludb\nDone.\n"
                },
                {
                    "data": {
                        "text/html": "<table>\n    <tr>\n        <th>COUNT</th>\n        <th>community_area_number</th>\n    </tr>\n    <tr>\n        <td>43</td>\n        <td>25</td>\n    </tr>\n    <tr>\n        <td>43</td>\n        <td>None</td>\n    </tr>\n    <tr>\n        <td>22</td>\n        <td>23</td>\n    </tr>\n    <tr>\n        <td>21</td>\n        <td>68</td>\n    </tr>\n    <tr>\n        <td>16</td>\n        <td>28</td>\n    </tr>\n</table>",
                        "text/plain": "[(43, 25), (43, None), (22, 23), (21, 68), (16, 28)]"
                    },
                    "execution_count": 41,
                    "metadata": {},
                    "output_type": "execute_result"
                }
            ],
            "source": "# Problem 8: Which community area(number) is most crime prone?\n%sql SELECT count(*) as count, COMMUNITY_AREA_NUMBER FROM CHICAGO_CRIME_DATA GROUP BY COMMUNITY_AREA_NUMBER ORDER BY count DESC LIMIT 5"
        },
        {
            "cell_type": "code",
            "execution_count": 46,
            "metadata": {},
            "outputs": [
                {
                    "name": "stdout",
                    "output_type": "stream",
                    "text": " * ibm_db_sa://xqf60309:***@ba99a9e6-d59e-4883-8fc0-d6a8c9f7a08f.c1ogj3sd0tgtu0lqde00.databases.appdomain.cloud:31321/bludb\nDone.\n"
                },
                {
                    "data": {
                        "text/html": "<table>\n    <tr>\n        <th>community_area_name</th>\n        <th>hardship_index</th>\n    </tr>\n    <tr>\n        <td>Riverdale</td>\n        <td>98</td>\n    </tr>\n</table>",
                        "text/plain": "[('Riverdale', 98)]"
                    },
                    "execution_count": 46,
                    "metadata": {},
                    "output_type": "execute_result"
                }
            ],
            "source": "# Problem 9 Use a sub-query to find the name of the community area with highest hardship index.\n%sql SELECT COMMUNITY_AREA_NAME, HARDSHIP_INDEX FROM CENSUS_DATA WHERE HARDSHIP_INDEX = (SELECT max(HARDSHIP_INDEX) FROM CENSUS_DATA)\n# WHERE max_index = (SELECT max(HARDSHIP_INDEX) FROM CENSUS_DATA)"
        },
        {
            "cell_type": "code",
            "execution_count": 47,
            "metadata": {},
            "outputs": [
                {
                    "name": "stdout",
                    "output_type": "stream",
                    "text": " * ibm_db_sa://xqf60309:***@ba99a9e6-d59e-4883-8fc0-d6a8c9f7a08f.c1ogj3sd0tgtu0lqde00.databases.appdomain.cloud:31321/bludb\nDone.\n"
                },
                {
                    "data": {
                        "text/html": "<table>\n    <tr>\n        <th>community_area_number</th>\n    </tr>\n    <tr>\n        <td>58</td>\n    </tr>\n    <tr>\n        <td>23</td>\n    </tr>\n    <tr>\n        <td>38</td>\n    </tr>\n    <tr>\n        <td>46</td>\n    </tr>\n    <tr>\n        <td>66</td>\n    </tr>\n</table>",
                        "text/plain": "[(58,), (23,), (38,), (46,), (66,)]"
                    },
                    "execution_count": 47,
                    "metadata": {},
                    "output_type": "execute_result"
                }
            ],
            "source": "# Problem 10: Use a sub-query to determine the Community Area Name with most number of crimes?\n%sql SELECT COMMUNITY_AREA_NUMBER FROM CHICAGO_CRIME_DATA  LIMIT 5"
        },
        {
            "cell_type": "code",
            "execution_count": null,
            "metadata": {},
            "outputs": [],
            "source": ""
        }
    ],
    "metadata": {
        "kernelspec": {
            "display_name": "Python 3.8",
            "language": "python",
            "name": "python3"
        },
        "language_info": {
            "codemirror_mode": {
                "name": "ipython",
                "version": 3
            },
            "file_extension": ".py",
            "mimetype": "text/x-python",
            "name": "python",
            "nbconvert_exporter": "python",
            "pygments_lexer": "ipython3",
            "version": "3.8.11"
        }
    },
    "nbformat": 4,
    "nbformat_minor": 1
}